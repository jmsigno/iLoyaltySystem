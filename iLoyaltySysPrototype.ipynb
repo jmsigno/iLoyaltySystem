{
  "nbformat": 4,
  "nbformat_minor": 0,
  "metadata": {
    "colab": {
      "name": "iLoyaltySysPrototype.ipynb",
      "provenance": [],
      "authorship_tag": "ABX9TyO5HiYTiyJlrrUs41gHfj4D",
      "include_colab_link": true
    },
    "kernelspec": {
      "name": "python3",
      "display_name": "Python 3"
    }
  },
  "cells": [
    {
      "cell_type": "markdown",
      "metadata": {
        "id": "view-in-github",
        "colab_type": "text"
      },
      "source": [
        "<a href=\"https://colab.research.google.com/github/jmsigno/iLoyaltySystem/blob/master/iLoyaltySysPrototype.ipynb\" target=\"_parent\"><img src=\"https://colab.research.google.com/assets/colab-badge.svg\" alt=\"Open In Colab\"/></a>"
      ]
    },
    {
      "cell_type": "markdown",
      "metadata": {
        "id": "jEP9aUJ_fth7",
        "colab_type": "text"
      },
      "source": [
        "**iLoyalty System - Prototype**"
      ]
    },
    {
      "cell_type": "code",
      "metadata": {
        "id": "fkWflZICeSsP",
        "colab_type": "code",
        "colab": {}
      },
      "source": [
        "#This is a system prototype of iLoyalty - Intelligent Customer Retention System.\n",
        "#Project Collaborators - Jordan Signo, Numa Dewan, Sujata Maharjan\n",
        "#Batch: B20-M Advanced Studio #2\n",
        "\n",
        "#System Used: Google Colabs IDE, Pandas, Sci-Kit Learn\n",
        "#Prototype Details: Data prepations, machine learning and producing prediction results. "
      ],
      "execution_count": 0,
      "outputs": []
    },
    {
      "cell_type": "markdown",
      "metadata": {
        "id": "3noLrv7I_vnn",
        "colab_type": "text"
      },
      "source": [
        "Library Imports "
      ]
    },
    {
      "cell_type": "code",
      "metadata": {
        "id": "-ePABIwN_5x-",
        "colab_type": "code",
        "colab": {}
      },
      "source": [
        "#for dataframe manipulation\n",
        "import pandas as pd\n",
        "\n",
        "#for model building and training, we will use train_test_split for from model_selection of Sci-Kit learn Framework\n",
        "from sklearn.model_selection import train_test_split\n",
        "\n",
        "#for model training and prediction we will use Logistic Regression Algorithm to train and test our model\n",
        "from sklearn.linear_model import LogisticRegression"
      ],
      "execution_count": 0,
      "outputs": []
    },
    {
      "cell_type": "markdown",
      "metadata": {
        "id": "wn65uy5HLHQW",
        "colab_type": "text"
      },
      "source": [
        "Uploading Raw dataset files to our model"
      ]
    },
    {
      "cell_type": "code",
      "metadata": {
        "id": "XlHOMKPuLQvi",
        "colab_type": "code",
        "colab": {}
      },
      "source": [
        "from google.colab import files\n",
        "files.upload()"
      ],
      "execution_count": 0,
      "outputs": []
    },
    {
      "cell_type": "markdown",
      "metadata": {
        "id": "kRnc3BowL1L6",
        "colab_type": "text"
      },
      "source": [
        "Loading dataset and converting to dataframes"
      ]
    },
    {
      "cell_type": "code",
      "metadata": {
        "id": "RNfrtnqVMCH6",
        "colab_type": "code",
        "colab": {}
      },
      "source": [
        "#converting the raw dataset to a dataframe\n",
        "rawDF = pd.read_csv(\"raw_dataset.csv\")\n",
        "\n",
        "#converting the raw dataset to a dataframe\n",
        "trainDF = pd.read_csv(\"train_dataset.csv\")\n",
        "\n",
        "#converting the raw dataset to a dataframe\n",
        "testDF = pd.read_csv(\"test_dataset.csv\")"
      ],
      "execution_count": 0,
      "outputs": []
    },
    {
      "cell_type": "markdown",
      "metadata": {
        "id": "Np_BBCixNNFe",
        "colab_type": "text"
      },
      "source": [
        "Data preparation for machine learning model"
      ]
    },
    {
      "cell_type": "code",
      "metadata": {
        "id": "MWsGas1INWN3",
        "colab_type": "code",
        "outputId": "03f5d8c2-ccad-4c6c-bbde-47791b35fcba",
        "colab": {
          "base_uri": "https://localhost:8080/",
          "height": 119
        }
      },
      "source": [
        "#Check any for null values or features that it's needed on the model\n",
        "\n",
        "trainDF.drop(\"D3\", axis = 1, inplace = True)\n",
        "trainDF.drop(\"D4\", axis = 1, inplace = True)\n",
        "trainDF.drop(\"D7\", axis = 1, inplace = True)\n",
        "\n",
        "testDF.drop(\"D3\", axis = 1, inplace = True)\n",
        "testDF.drop(\"D4\", axis = 1, inplace = True)\n",
        "testDF.drop(\"D7\", axis = 1, inplace = True)\n",
        "\n",
        "print(trainDF.columns)\n",
        "print(testDF.columns)"
      ],
      "execution_count": 0,
      "outputs": [
        {
          "output_type": "stream",
          "text": [
            "Index(['D1', 'D2', 'D5', 'D6', 'D8', 'D9', 'D10', 'D11', 'D12', 'D13', 'D14',\n",
            "       'D15', 'D16', 'D17', 'D18', 'D19', 'D20', 'D21'],\n",
            "      dtype='object')\n",
            "Index(['D1', 'D2', 'D5', 'D6', 'D8', 'D9', 'D10', 'D11', 'D12', 'D13', 'D14',\n",
            "       'D15', 'D16', 'D17', 'D18', 'D19', 'D20', 'D21'],\n",
            "      dtype='object')\n"
          ],
          "name": "stdout"
        }
      ]
    },
    {
      "cell_type": "markdown",
      "metadata": {
        "id": "pQATE9jFKfyS",
        "colab_type": "text"
      },
      "source": [
        "Data Wrangling for Machine learning ready dataset"
      ]
    },
    {
      "cell_type": "code",
      "metadata": {
        "id": "D8tHmiv7KluP",
        "colab_type": "code",
        "outputId": "79fe31ae-8fe6-4590-b9cc-df796c0728f5",
        "colab": {
          "base_uri": "https://localhost:8080/",
          "height": 119
        }
      },
      "source": [
        "#Splitting yes/no, true/false into 1-0 values\n",
        "\n",
        "train_D5 = pd.get_dummies(trainDF[\"D5\"], prefix=\"D5\", prefix_sep=\":\", drop_first=True)\n",
        "train_D6 = pd.get_dummies(trainDF[\"D6\"], prefix=\"D6\", prefix_sep=\":\", drop_first=True)\n",
        "train_D21 = pd.get_dummies(trainDF[\"D21\"], prefix=\"D21\", prefix_sep=\":\", drop_first=True)\n",
        "\n",
        "test_D5 = pd.get_dummies(trainDF[\"D5\"], prefix=\"D5\", prefix_sep=\":\", drop_first=True)\n",
        "test_D6 = pd.get_dummies(trainDF[\"D6\"], prefix=\"D6\", prefix_sep=\":\", drop_first=True)\n",
        "test_D21 = pd.get_dummies(trainDF[\"D21\"], prefix=\"D21\", prefix_sep=\":\", drop_first=True)\n",
        "\n",
        "print(trainDF.columns)\n",
        "print(testDF.columns)"
      ],
      "execution_count": 0,
      "outputs": [
        {
          "output_type": "stream",
          "text": [
            "Index(['D1', 'D2', 'D5', 'D6', 'D8', 'D9', 'D10', 'D11', 'D12', 'D13', 'D14',\n",
            "       'D15', 'D16', 'D17', 'D18', 'D19', 'D20', 'D21'],\n",
            "      dtype='object')\n",
            "Index(['D1', 'D2', 'D5', 'D6', 'D8', 'D9', 'D10', 'D11', 'D12', 'D13', 'D14',\n",
            "       'D15', 'D16', 'D17', 'D18', 'D19', 'D20', 'D21'],\n",
            "      dtype='object')\n"
          ],
          "name": "stdout"
        }
      ]
    },
    {
      "cell_type": "code",
      "metadata": {
        "id": "VvaLSY08MciJ",
        "colab_type": "code",
        "outputId": "67cc1dcf-46cb-4611-a413-80fdbbf67820",
        "colab": {
          "base_uri": "https://localhost:8080/",
          "height": 119
        }
      },
      "source": [
        "#dropping the original yes/no, true/false columns\n",
        "trainDF.drop(\"D5\", axis = 1, inplace = True)\n",
        "trainDF.drop(\"D6\", axis = 1, inplace = True)\n",
        "trainDF.drop(\"D21\", axis = 1, inplace = True)\n",
        "\n",
        "testDF.drop(\"D5\", axis = 1, inplace = True)\n",
        "testDF.drop(\"D6\", axis = 1, inplace = True)\n",
        "testDF.drop(\"D21\", axis = 1, inplace = True)\n",
        "\n",
        "print(trainDF.columns)\n",
        "print(testDF.columns)"
      ],
      "execution_count": 0,
      "outputs": [
        {
          "output_type": "stream",
          "text": [
            "Index(['D1', 'D2', 'D8', 'D9', 'D10', 'D11', 'D12', 'D13', 'D14', 'D15', 'D16',\n",
            "       'D17', 'D18', 'D19', 'D20'],\n",
            "      dtype='object')\n",
            "Index(['D1', 'D2', 'D8', 'D9', 'D10', 'D11', 'D12', 'D13', 'D14', 'D15', 'D16',\n",
            "       'D17', 'D18', 'D19', 'D20'],\n",
            "      dtype='object')\n"
          ],
          "name": "stdout"
        }
      ]
    },
    {
      "cell_type": "code",
      "metadata": {
        "id": "--QMB-9fMtrR",
        "colab_type": "code",
        "outputId": "36695436-363d-4a0a-978c-1d50b67d6c07",
        "colab": {
          "base_uri": "https://localhost:8080/",
          "height": 119
        }
      },
      "source": [
        "#inserting the converted columns\n",
        "trainDF = pd.concat([trainDF, train_D5, train_D6, train_D21], axis=1)\n",
        "testDF = pd.concat([testDF, test_D5, test_D6], axis=1)\n",
        "\n",
        "print(trainDF.columns)\n",
        "print(testDF.columns)"
      ],
      "execution_count": 0,
      "outputs": [
        {
          "output_type": "stream",
          "text": [
            "Index(['D1', 'D2', 'D8', 'D9', 'D10', 'D11', 'D12', 'D13', 'D14', 'D15', 'D16',\n",
            "       'D17', 'D18', 'D19', 'D20', 'D5:yes', 'D6:yes', 'D21:True'],\n",
            "      dtype='object')\n",
            "Index(['D1', 'D2', 'D8', 'D9', 'D10', 'D11', 'D12', 'D13', 'D14', 'D15', 'D16',\n",
            "       'D17', 'D18', 'D19', 'D20', 'D5:yes', 'D6:yes'],\n",
            "      dtype='object')\n"
          ],
          "name": "stdout"
        }
      ]
    },
    {
      "cell_type": "markdown",
      "metadata": {
        "id": "iDjRU_G1ORdf",
        "colab_type": "text"
      },
      "source": [
        "Ready for machine learning building"
      ]
    },
    {
      "cell_type": "code",
      "metadata": {
        "id": "A-1Y2T4oOWnp",
        "colab_type": "code",
        "colab": {}
      },
      "source": [
        "A = trainDF.drop([\"D1\", \"D21:True\"], axis=1)\n",
        "B = trainDF[\"D21:True\"]\n",
        "\n",
        "#splitting\n",
        "x_train, x_test, y_train, y_test = train_test_split(A, B, test_size = 0.25, random_state = 0)"
      ],
      "execution_count": 0,
      "outputs": []
    },
    {
      "cell_type": "markdown",
      "metadata": {
        "id": "vLGD1pgFQku6",
        "colab_type": "text"
      },
      "source": [
        "Model Building"
      ]
    },
    {
      "cell_type": "code",
      "metadata": {
        "id": "5mLjjGaqQota",
        "colab_type": "code",
        "outputId": "b5306485-2bce-4df0-c755-05b505fbd626",
        "colab": {
          "base_uri": "https://localhost:8080/",
          "height": 238
        }
      },
      "source": [
        "#using logistic regression algorithm\n",
        "LogReg_Model = LogisticRegression()\n",
        "\n",
        "#applying Logistic Regression to our trained dataset\n",
        "LogReg_Model.fit(x_train, y_train)\n"
      ],
      "execution_count": 0,
      "outputs": [
        {
          "output_type": "stream",
          "text": [
            "/usr/local/lib/python3.6/dist-packages/sklearn/linear_model/_logistic.py:940: ConvergenceWarning: lbfgs failed to converge (status=1):\n",
            "STOP: TOTAL NO. of ITERATIONS REACHED LIMIT.\n",
            "\n",
            "Increase the number of iterations (max_iter) or scale the data as shown in:\n",
            "    https://scikit-learn.org/stable/modules/preprocessing.html\n",
            "Please also refer to the documentation for alternative solver options:\n",
            "    https://scikit-learn.org/stable/modules/linear_model.html#logistic-regression\n",
            "  extra_warning_msg=_LOGISTIC_SOLVER_CONVERGENCE_MSG)\n"
          ],
          "name": "stderr"
        },
        {
          "output_type": "execute_result",
          "data": {
            "text/plain": [
              "LogisticRegression(C=1.0, class_weight=None, dual=False, fit_intercept=True,\n",
              "                   intercept_scaling=1, l1_ratio=None, max_iter=100,\n",
              "                   multi_class='auto', n_jobs=None, penalty='l2',\n",
              "                   random_state=None, solver='lbfgs', tol=0.0001, verbose=0,\n",
              "                   warm_start=False)"
            ]
          },
          "metadata": {
            "tags": []
          },
          "execution_count": 13
        }
      ]
    },
    {
      "cell_type": "markdown",
      "metadata": {
        "id": "uJW0nn0VR1CD",
        "colab_type": "text"
      },
      "source": [
        ""
      ]
    },
    {
      "cell_type": "code",
      "metadata": {
        "id": "ygPVMnJXR4F9",
        "colab_type": "code",
        "outputId": "36c6d718-a3f5-4b52-cde2-ce3da8581136",
        "colab": {
          "base_uri": "https://localhost:8080/",
          "height": 408
        }
      },
      "source": [
        "# initial test predictions using the splitted trained model s\n",
        "init_predict = LogReg_Model.predict(x_test)\n",
        "print(init_predict)"
      ],
      "execution_count": 0,
      "outputs": [
        {
          "output_type": "stream",
          "text": [
            "[0 0 0 0 0 0 0 0 0 0 0 0 0 0 0 0 0 0 0 0 0 0 0 0 0 0 0 0 0 0 0 0 0 0 0 0 0\n",
            " 0 0 0 0 0 0 0 0 0 0 0 0 0 0 0 0 0 0 0 0 0 0 0 0 0 0 0 0 0 0 0 0 0 0 0 0 1\n",
            " 0 0 0 0 0 0 0 0 0 0 0 0 0 0 0 0 0 0 0 0 0 1 0 0 0 0 0 0 0 0 0 0 0 0 0 0 0\n",
            " 0 0 0 0 0 0 0 0 0 0 0 0 0 0 0 0 0 0 0 0 0 0 0 0 0 0 0 0 0 0 0 0 0 0 0 0 0\n",
            " 0 0 0 0 0 0 0 0 0 0 0 0 0 0 0 0 0 0 0 0 0 0 0 0 0 0 0 0 0 0 0 0 0 0 0 0 0\n",
            " 0 0 0 0 1 0 0 0 0 0 0 0 0 0 0 0 0 0 0 0 0 0 0 0 0 0 0 0 0 0 0 0 0 0 0 0 0\n",
            " 0 0 0 0 0 0 0 0 0 0 0 0 0 0 0 0 0 0 0 0 0 0 0 0 1 0 0 0 0 0 0 0 0 0 0 0 0\n",
            " 0 0 0 0 0 0 0 0 0 0 0 0 0 0 0 0 0 0 0 0 0 0 0 0 0 0 0 0 0 0 0 0 0 0 0 0 0\n",
            " 0 0 0 0 0 0 0 0 0 0 0 0 0 0 0 0 0 0 0 0 0 0 0 0 0 0 0 0 0 0 0 0 0 0 0 0 0\n",
            " 0 0 0 0 0 0 0 0 0 0 0 0 0 0 0 0 0 0 0 0 1 0 0 0 1 0 0 0 0 0 0 0 0 0 0 0 0\n",
            " 0 0 0 0 0 0 0 0 0 0 0 0 0 0 0 0 0 0 0 0 0 0 0 0 0 0 0 0 0 0 0 0 0 0 0 0 0\n",
            " 0 0 0 1 0 0 0 1 0 0 0 0 0 0 0 0 0 0 0 0 0 0 0 0 0 0 0 0 0 0 0 0 0 0 0 0 0\n",
            " 1 0 0 0 0 0 0 0 0 0 0 1 0 0 0 0 0 0 0 0 0 0 0 0 0 0 0 0 0 0 0 0 0 0 0 0 0\n",
            " 0 0 0 0 0 0 0 0 0 0 0 0 0 0 0 0 0 0 0 0 0 0 0 0 0 0 0 0 0 0 0 0 0 0 0 0 0\n",
            " 0 0 0 0 0 0 0 0 0 0 0 0 0 0 0 0 0 0 0 0 0 0 0 0 0 0 0 0 0 0 0 0 0 0 0 0 0\n",
            " 0 0 0 0 0 0 0 0 0 0 0 0 1 0 0 0 0 0 0 0 0 0 0 0 0 0 0 0 0 0 0 0 0 0 0 0 0\n",
            " 0 0 0 0 0 0 0 0 0 0 0 0 0 0 0 0 0 0 0 0 0 0 0 0 0 0 0 0 0 0 0 0 0 0 1 0 0\n",
            " 0 0 0 0 0 0 0 1 0 0 0 0 0 1 0 0 0 0 0 0 0 0 0 0 0 0 0 0 0 0 0 0 0 0 0 0 0\n",
            " 0 0 0 0 0 0 0 0 0 0 0 1 0 0 0 0 0 0 0 0 0 0 0 0 0 0 0 0 0 0 0 0 0 0 0 0 0\n",
            " 0 0 0 0 0 0 0 0 0 0 0 0 0 0 0 0 0 0 0 0 0 0 0 0 0 0 0 0 0 0 0 0 0 0 0 0 0\n",
            " 0 0 0 0 0 0 0 0 0 1 0 0 0 0 0 0 0 0 0 0 0 0 0 0 0 0 0 0 0 0 0 0 0 0 0 0 0\n",
            " 0 0 0 1 0 0 0 0 0 0 0 0 0 0 0 0 0 0 0 0 0 0 0 0 0 0 0 0 0 0 0 0 0 0 0 0 0\n",
            " 0 0 0 0 1 0 0 0 0 0 0 0 0 0 0 0 0 0 0 0]\n"
          ],
          "name": "stdout"
        }
      ]
    },
    {
      "cell_type": "code",
      "metadata": {
        "id": "-rBzAIk5TlQA",
        "colab_type": "code",
        "outputId": "87dc0d8e-4870-4d8c-d3b4-774f95deff99",
        "colab": {
          "base_uri": "https://localhost:8080/",
          "height": 68
        }
      },
      "source": [
        "print(testDF.columns)\n",
        "testDF.drop(\"D1\", axis = 1, inplace = True)"
      ],
      "execution_count": 0,
      "outputs": [
        {
          "output_type": "stream",
          "text": [
            "Index(['D1', 'D2', 'D8', 'D9', 'D10', 'D11', 'D12', 'D13', 'D14', 'D15', 'D16',\n",
            "       'D17', 'D18', 'D19', 'D20', 'D5:yes', 'D6:yes'],\n",
            "      dtype='object')\n"
          ],
          "name": "stdout"
        }
      ]
    },
    {
      "cell_type": "code",
      "metadata": {
        "id": "V9eNjSD0TyTc",
        "colab_type": "code",
        "outputId": "55607fb8-2266-46c8-fc29-c446bb88091f",
        "colab": {
          "base_uri": "https://localhost:8080/",
          "height": 306
        }
      },
      "source": [
        "print(testDF.columns)\n",
        "print(testDF)"
      ],
      "execution_count": 0,
      "outputs": [
        {
          "output_type": "stream",
          "text": [
            "Index(['D2', 'D8', 'D9', 'D10', 'D11', 'D12', 'D13', 'D14', 'D15', 'D16',\n",
            "       'D17', 'D18', 'D19', 'D20', 'D5:yes', 'D6:yes'],\n",
            "      dtype='object')\n",
            "         D2     D8     D9    D10    D11  ...  D18   D19  D20  D5:yes  D6:yes\n",
            "0     127.0  102.8  128.0  17.48  143.7  ...  5.0  2.70  1.0       0       1\n",
            "1      89.0  178.7   81.0  30.38  233.7  ...  4.0  2.46  1.0       0       1\n",
            "2     149.0  148.5  106.0  25.25  114.5  ...  4.0  1.76  0.0       0       0\n",
            "3     103.0  164.1  111.0  27.90  219.1  ...  9.0  3.32  0.0       1       0\n",
            "4     163.0  197.2   90.0  33.52  188.5  ...  8.0  2.11  1.0       1       0\n",
            "...     ...    ...    ...    ...    ...  ...  ...   ...  ...     ...     ...\n",
            "3328    NaN    NaN    NaN    NaN    NaN  ...  NaN   NaN  NaN       0       1\n",
            "3329    NaN    NaN    NaN    NaN    NaN  ...  NaN   NaN  NaN       0       0\n",
            "3330    NaN    NaN    NaN    NaN    NaN  ...  NaN   NaN  NaN       0       0\n",
            "3331    NaN    NaN    NaN    NaN    NaN  ...  NaN   NaN  NaN       1       0\n",
            "3332    NaN    NaN    NaN    NaN    NaN  ...  NaN   NaN  NaN       0       1\n",
            "\n",
            "[3333 rows x 16 columns]\n"
          ],
          "name": "stdout"
        }
      ]
    },
    {
      "cell_type": "code",
      "metadata": {
        "id": "PJotBaqEVfHA",
        "colab_type": "code",
        "outputId": "a38a4b3b-4f1d-4484-eff7-75b92b686f76",
        "colab": {
          "base_uri": "https://localhost:8080/",
          "height": 255
        }
      },
      "source": [
        "testDF.dropna(inplace=True)\n",
        "print(testDF)"
      ],
      "execution_count": 0,
      "outputs": [
        {
          "output_type": "stream",
          "text": [
            "        D2     D8     D9    D10    D11  ...  D18   D19  D20  D5:yes  D6:yes\n",
            "0    127.0  102.8  128.0  17.48  143.7  ...  5.0  2.70  1.0       0       1\n",
            "1     89.0  178.7   81.0  30.38  233.7  ...  4.0  2.46  1.0       0       1\n",
            "2    149.0  148.5  106.0  25.25  114.5  ...  4.0  1.76  0.0       0       0\n",
            "3    103.0  164.1  111.0  27.90  219.1  ...  9.0  3.32  0.0       1       0\n",
            "4    163.0  197.2   90.0  33.52  188.5  ...  8.0  2.11  1.0       1       0\n",
            "..     ...    ...    ...    ...    ...  ...  ...   ...  ...     ...     ...\n",
            "995  180.0  224.9  105.0  38.23  250.0  ...  5.0  1.81  3.0       0       0\n",
            "996   67.0  109.1  117.0  18.55  217.4  ...  6.0  3.46  0.0       0       0\n",
            "997   60.0  207.8  109.0  35.33  123.5  ...  9.0  1.54  0.0       0       0\n",
            "998  138.0  205.9   96.0  35.00  257.1  ...  8.0  3.27  0.0       0       0\n",
            "999   44.0  308.6  139.0  52.46  150.8  ...  3.0  1.97  4.0       0       0\n",
            "\n",
            "[1000 rows x 16 columns]\n"
          ],
          "name": "stdout"
        }
      ]
    },
    {
      "cell_type": "code",
      "metadata": {
        "id": "jS6XPTOwWiAb",
        "colab_type": "code",
        "outputId": "0910d663-0b02-420b-bf8c-b44d6251ba71",
        "colab": {
          "base_uri": "https://localhost:8080/",
          "height": 493
        }
      },
      "source": [
        "#Final Prediction Results using our trained Model\n",
        "Prediction_Results = LogReg_Model.predict(testDF)\n",
        "print(Prediction_Results)"
      ],
      "execution_count": 0,
      "outputs": [
        {
          "output_type": "stream",
          "text": [
            "[0 0 0 0 0 0 0 0 0 1 0 0 0 0 0 0 1 0 0 0 0 0 0 0 0 0 0 1 0 0 0 0 0 0 0 0 0\n",
            " 0 0 0 0 0 0 0 0 0 0 0 0 0 0 0 0 0 0 0 0 0 0 0 0 0 0 0 0 0 0 0 0 0 0 0 0 0\n",
            " 0 0 0 0 0 0 0 1 0 0 0 1 0 0 0 0 0 0 0 0 0 0 0 0 0 0 0 0 0 0 0 1 0 0 0 0 0\n",
            " 0 0 0 1 0 0 0 0 0 0 0 0 0 0 0 0 0 0 0 0 0 0 0 0 1 0 0 0 1 0 0 0 0 0 0 0 0\n",
            " 0 0 0 0 0 0 1 0 0 0 0 0 0 0 0 1 0 0 0 0 0 0 0 0 0 0 0 0 0 1 0 0 0 0 0 0 1\n",
            " 0 0 0 0 0 0 0 1 0 0 0 0 0 0 0 0 0 0 0 0 0 0 0 0 0 1 0 0 0 0 0 0 0 0 0 0 0\n",
            " 0 0 0 0 0 0 0 0 0 0 0 0 0 0 0 0 0 0 0 0 0 0 0 0 0 0 0 0 0 0 0 0 0 0 0 0 0\n",
            " 0 0 0 0 0 0 0 0 0 0 0 0 0 0 0 0 0 0 0 0 0 0 0 0 0 0 0 0 0 0 0 0 0 0 0 0 1\n",
            " 1 0 0 0 0 0 0 0 0 0 0 0 0 0 0 0 0 0 0 0 0 0 0 0 0 0 0 0 0 0 0 0 0 0 0 0 0\n",
            " 0 0 0 0 0 0 0 0 0 0 0 0 0 0 0 0 0 0 0 0 0 0 0 0 0 0 0 0 0 0 0 0 0 0 0 0 0\n",
            " 0 0 0 0 0 0 0 0 0 0 0 0 0 0 0 0 0 0 0 0 0 0 0 0 0 0 0 0 0 0 0 0 0 0 0 0 0\n",
            " 0 0 0 0 0 0 0 0 0 0 0 0 0 0 0 0 0 0 0 0 0 0 0 0 0 0 0 0 0 0 0 0 0 0 0 0 0\n",
            " 0 0 0 0 0 0 0 0 0 0 0 0 0 0 0 0 0 0 0 0 0 0 0 0 0 0 0 0 0 0 0 0 0 0 0 0 0\n",
            " 0 0 0 0 0 1 0 0 0 0 0 0 0 0 0 0 0 0 0 0 0 0 0 0 0 0 0 0 0 0 0 0 0 0 0 0 0\n",
            " 0 0 0 0 0 0 0 0 0 0 0 0 0 0 0 0 0 0 0 0 0 0 0 0 0 0 0 1 0 0 0 0 0 0 0 0 0\n",
            " 0 0 0 0 0 0 0 0 0 0 0 0 0 0 0 0 0 0 0 0 0 0 0 0 0 0 0 0 1 0 0 0 0 0 0 0 0\n",
            " 0 0 0 0 1 0 1 0 0 0 0 0 0 1 0 0 0 0 0 0 0 0 0 0 0 0 0 0 0 0 0 0 0 0 0 0 0\n",
            " 1 0 0 0 0 0 0 0 0 0 0 0 0 0 0 0 0 0 0 0 1 0 0 0 0 0 0 0 0 0 0 0 0 0 0 0 0\n",
            " 0 0 0 0 0 0 0 0 0 0 0 0 0 0 0 0 0 0 0 0 0 0 0 0 0 0 0 0 0 0 0 0 1 0 0 0 1\n",
            " 0 0 0 0 0 0 1 0 0 0 0 0 0 0 0 0 0 0 0 0 0 0 0 0 0 0 0 0 0 0 0 0 0 0 0 0 0\n",
            " 0 0 0 0 0 0 0 0 0 0 0 0 0 0 0 0 0 0 0 0 0 0 0 0 0 0 1 0 0 0 0 0 0 0 0 0 0\n",
            " 0 0 0 0 0 0 0 0 0 0 0 0 0 0 0 0 0 0 0 0 0 0 0 0 0 0 0 0 0 0 0 0 0 0 0 0 0\n",
            " 0 0 0 0 0 0 0 0 0 0 0 0 0 0 0 0 0 0 0 0 0 0 0 0 0 0 0 0 0 0 0 0 0 0 0 0 0\n",
            " 0 0 0 0 0 0 0 0 0 0 0 0 0 0 0 0 0 0 0 0 0 0 0 0 1 0 0 0 0 0 0 0 0 0 0 0 0\n",
            " 0 0 0 0 0 0 0 0 0 0 0 0 0 0 0 0 0 0 0 0 0 0 0 0 0 0 1 0 0 0 0 0 0 0 0 0 0\n",
            " 0 0 0 0 0 0 0 0 0 0 0 0 0 0 0 0 0 0 0 0 0 0 0 0 0 0 0 0 0 0 0 0 0 0 0 0 0\n",
            " 0 0 0 0 0 0 0 0 0 0 0 0 0 0 0 0 0 1 0 0 1 0 0 0 0 0 0 0 0 0 0 0 0 0 0 0 0\n",
            " 1]\n"
          ],
          "name": "stdout"
        }
      ]
    },
    {
      "cell_type": "code",
      "metadata": {
        "id": "_AJ5_IN_XbSY",
        "colab_type": "code",
        "outputId": "3c0c2534-13c8-4077-ef4e-9db6c8f3183c",
        "colab": {
          "base_uri": "https://localhost:8080/",
          "height": 255
        }
      },
      "source": [
        "#Views on the original test dataset with the predicted results\n",
        "data = pd.read_csv(\"test_dataset.csv\")\n",
        "resultDF = pd.DataFrame(data)\n",
        "resultDF['D22'] = Prediction_Results\n",
        "\n",
        "print(resultDF)"
      ],
      "execution_count": 0,
      "outputs": [
        {
          "output_type": "stream",
          "text": [
            "     D1   D2   D3        D4   D5   D6  ...   D17  D18   D19  D20    D21  D22\n",
            "0    ID  127  408  392-5090   no   no  ...  10.0    5  2.70    1  False    0\n",
            "1    MO   89  415  373-7713   no   no  ...   9.1    4  2.46    1  False    0\n",
            "2    ME  149  415  392-1376   no  yes  ...   6.5    4  1.76    0  False    0\n",
            "3    MS  103  510  390-6388   no  yes  ...  12.3    9  3.32    0  False    0\n",
            "4    SD  163  415  379-7290  yes   no  ...   7.8    8  2.11    1  False    0\n",
            "..   ..  ...  ...       ...  ...  ...  ...   ...  ...   ...  ...    ...  ...\n",
            "995  ND  180  415  369-1929   no   no  ...   6.7    5  1.81    3   True    0\n",
            "996  IL   67  415  369-4377   no   no  ...  12.8    6  3.46    0  False    0\n",
            "997  OR   60  415  366-9430   no   no  ...   5.7    9  1.54    0  False    0\n",
            "998  UT  138  510  353-7407   no   no  ...  12.1    8  3.27    0  False    0\n",
            "999  IA   44  415  359-7426   no   no  ...   7.3    3  1.97    4   True    1\n",
            "\n",
            "[1000 rows x 22 columns]\n"
          ],
          "name": "stdout"
        }
      ]
    },
    {
      "cell_type": "code",
      "metadata": {
        "id": "au0MI5XlYMUZ",
        "colab_type": "code",
        "colab": {}
      },
      "source": [
        ""
      ],
      "execution_count": 0,
      "outputs": []
    }
  ]
}